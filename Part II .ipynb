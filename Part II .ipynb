{
 "cells": [
  {
   "cell_type": "markdown",
   "id": "a501983a",
   "metadata": {},
   "source": [
    "## PART II - Analogy Prediction \n",
    "\n",
    "Given a pair of words < 𝑎, 𝑏 > and a third word 𝑐, choose a fourth word 𝑑 so that the analogy **“𝑎 is to 𝑏 as 𝑐 is to 𝑑” holds**\n",
    "\n",
    "the\n",
    "relationship between 𝑐 and 𝑑 should be as close as possible to that between 𝑎 and 𝑏\n"
   ]
  },
  {
   "cell_type": "code",
   "execution_count": 1,
   "id": "a73e6dd2",
   "metadata": {},
   "outputs": [
    {
     "name": "stdout",
     "output_type": "stream",
     "text": [
      "Intel MKL WARNING: Support of Intel(R) Streaming SIMD Extensions 4.2 (Intel(R) SSE4.2) enabled only processors has been deprecated. Intel oneAPI Math Kernel Library 2025.0 will require Intel(R) Advanced Vector Extensions (Intel(R) AVX) instructions.\n",
      "Intel MKL WARNING: Support of Intel(R) Streaming SIMD Extensions 4.2 (Intel(R) SSE4.2) enabled only processors has been deprecated. Intel oneAPI Math Kernel Library 2025.0 will require Intel(R) Advanced Vector Extensions (Intel(R) AVX) instructions.\n"
     ]
    }
   ],
   "source": [
    "#importing all libraries\n",
    "\n",
    "import pandas as pd\n",
    "from nltk.corpus import stopwords\n",
    "import pandas as pd\n",
    "import re\n",
    "import nltk\n",
    "from gensim.models import KeyedVectors\n",
    "import gensim.downloader as g"
   ]
  },
  {
   "cell_type": "markdown",
   "id": "d69a2ff9",
   "metadata": {},
   "source": [
    "#### ** The dataset is downloaded from : http://www.fit.vutbr.cz/ ̃imikolov/rnnlm/word-test.v1.txt\n",
    "\n",
    "AND  only a subset of data is used, because it was taking more than 3 hours on my machine to give results "
   ]
  },
  {
   "cell_type": "markdown",
   "id": "e44a4a05",
   "metadata": {},
   "source": [
    "## 2.1 Using glove & word2vec"
   ]
  },
  {
   "cell_type": "code",
   "execution_count": 2,
   "id": "f90265ea",
   "metadata": {},
   "outputs": [],
   "source": [
    "\n",
    "#load w2v model \n",
    "word2vec_path = 'GoogleNews-vectors-negative300.bin'\n",
    "model = KeyedVectors.load_word2vec_format(word2vec_path, binary=True)\n",
    "\n",
    "# load the GloVe model\n",
    "modelglove = g.load(\"glove-wiki-gigaword-100\")\n",
    "\n",
    "\n",
    "\n",
    "# selected categories\n",
    "selected_categories = [\n",
    "    'capital-world', \n",
    "    'currency', \n",
    "    'city-in-state', \n",
    "    'family', \n",
    "    'gram1-adjective-to-adverb', \n",
    "    'gram2-opposite',\n",
    "    'gram3-comparative', \n",
    "    'gram6-nationality-adjective'\n",
    "]"
   ]
  },
  {
   "cell_type": "markdown",
   "id": "81fc45ea",
   "metadata": {},
   "source": [
    "#### Select specified categories from the dataset\n",
    "Then in each category, find(process) each analogy row "
   ]
  },
  {
   "cell_type": "code",
   "execution_count": 3,
   "id": "276e50a6",
   "metadata": {
    "scrolled": true
   },
   "outputs": [],
   "source": [
    "def process_category(file, category, model):\n",
    "    total, num_correct = 0, 0\n",
    "    found = False  # category found ? \n",
    "    \n",
    "    for line in file:\n",
    "        curRow = line.strip()\n",
    "\n",
    "        if curRow.startswith(':'):  # check for category\n",
    "            if curRow[2:] == category:  \n",
    "                found = True  # found the desired category\n",
    "                \n",
    "            elif found:  # break when past the desired category\n",
    "                break\n",
    "\n",
    "        elif found:  # process analogy rows\n",
    "            correct, valid = process_analogy_row(curRow, model)  # pass model here\n",
    "            if valid:\n",
    "                total += 1\n",
    "                num_correct += correct\n",
    "\n",
    "    return num_correct, total\n",
    "\n",
    "\n",
    "def process_analogy_row(row, model):\n",
    "    split = row.split()  # split into words\n",
    "    if len(split) != 4:  # must have exactly 4 words\n",
    "        return 0, False  \n",
    "\n",
    "    # lowercase-- else glove will not be able to give results\n",
    "    a, b, c, d = map(str.lower, split)\n",
    "\n",
    "    # all 4 words in model's vocabulary\n",
    "    if all(word in model for word in [a, b, c]):\n",
    "        predicted_word = model.most_similar(positive=[b, c], negative=[a], topn=1)[0][0]\n",
    "        return (predicted_word == d.lower()), True  \n",
    "    else:\n",
    "        return 0, False\n",
    "\n"
   ]
  },
  {
   "cell_type": "markdown",
   "id": "89f53585",
   "metadata": {},
   "source": [
    "#### Prints the Accuracy using the both models"
   ]
  },
  {
   "cell_type": "code",
   "execution_count": 4,
   "id": "0f34b262",
   "metadata": {},
   "outputs": [],
   "source": [
    "\n",
    "def print_accuracy(category, num_correct, total):\n",
    "    if total > 0:\n",
    "        accuracy = num_correct / total\n",
    "        print(f\"Accuracy for {category}:{accuracy:.2f}\")\n",
    "\n",
    "        \n",
    "        \n",
    "def evaluate_selected_categories(file, selected_categories, model):\n",
    "    for category in selected_categories:\n",
    "        num_correct, total = process_category(file, category, model)  # Pass model here\n",
    "        print_accuracy(category, num_correct, total)\n"
   ]
  },
  {
   "cell_type": "markdown",
   "id": "4b14d838",
   "metadata": {},
   "source": [
    "#### glove results"
   ]
  },
  {
   "cell_type": "code",
   "execution_count": 5,
   "id": "a38cd4d3",
   "metadata": {
    "scrolled": true
   },
   "outputs": [],
   "source": [
    "#Glove results \n",
    "evaluate_selected_categories(file, selected_categories, modelglove)  "
   ]
  },
  {
   "cell_type": "markdown",
   "id": "503362ac",
   "metadata": {},
   "source": [
    "#### w2v results"
   ]
  },
  {
   "cell_type": "code",
   "execution_count": 6,
   "id": "998d39ce",
   "metadata": {},
   "outputs": [],
   "source": [
    "evaluate_selected_categories(file, selected_categories, model)"
   ]
  },
  {
   "attachments": {
    "image.png": {
     "image/png": "[encoded data removed]"
    }
   },
   "cell_type": "markdown",
   "id": "a42ce9ab",
   "metadata": {},
   "source": [
    "##Comparing Accuracy of w2v and glove\n",
    "\n",
    "![image.png](attachment:image.png)"
   ]
  },
  {
   "cell_type": "code",
   "execution_count": null,
   "id": "b0172809",
   "metadata": {},
   "outputs": [],
   "source": []
  },
  {
   "cell_type": "markdown",
   "id": "ca13d714",
   "metadata": {},
   "source": [
    "## 2.2 Antonyms"
   ]
  },
  {
   "cell_type": "code",
   "execution_count": 7,
   "id": "71ec5b65",
   "metadata": {},
   "outputs": [],
   "source": [
    "# top similar words for each antonym\n",
    "antonyms = ['increase', 'enter' ]\n",
    "\n",
    "def antonyms_embedding(model, antonyms):\n",
    "    for word in antonyms:\n",
    "        print(f\"top 10 words similar to '{word}'\")\n",
    "        similar_words = model.most_similar(word, topn=10)\n",
    "        for s, slarity in similar_words:\n",
    "            print(f\" - {s} (similarity: {slarity:.2f}\")"
   ]
  },
  {
   "cell_type": "code",
   "execution_count": 8,
   "id": "46576457",
   "metadata": {},
   "outputs": [
    {
     "name": "stdout",
     "output_type": "stream",
     "text": [
      "glove results:\n",
      "top 10 words similar to 'increase'\n",
      " - increased (similarity: 0.90\n",
      " - increases (similarity: 0.88\n",
      " - decrease (similarity: 0.88\n",
      " - increasing (similarity: 0.85\n",
      " - reduce (similarity: 0.81\n",
      " - rise (similarity: 0.79\n",
      " - reduced (similarity: 0.78\n",
      " - growth (similarity: 0.78\n",
      " - reduction (similarity: 0.78\n",
      " - boost (similarity: 0.78\n",
      "top 10 words similar to 'enter'\n",
      " - entering (similarity: 0.78\n",
      " - leave (similarity: 0.72\n",
      " - join (similarity: 0.71\n",
      " - go (similarity: 0.70\n",
      " - able (similarity: 0.70\n",
      " - return (similarity: 0.70\n",
      " - entered (similarity: 0.70\n",
      " - allow (similarity: 0.69\n",
      " - take (similarity: 0.69\n",
      " - participate (similarity: 0.69\n"
     ]
    }
   ],
   "source": [
    "print(\"glove results:\")\n",
    "antonyms_embedding(modelglove, antonyms)"
   ]
  },
  {
   "cell_type": "code",
   "execution_count": 9,
   "id": "274f36ce",
   "metadata": {},
   "outputs": [
    {
     "name": "stdout",
     "output_type": "stream",
     "text": [
      "w2v results:\n",
      "top 10 words similar to 'increase'\n",
      " - decrease (similarity: 0.84\n",
      " - increases (similarity: 0.77\n",
      " - increased (similarity: 0.76\n",
      " - reduction (similarity: 0.69\n",
      " - increasing (similarity: 0.69\n",
      " - decreases (similarity: 0.68\n",
      " - rise (similarity: 0.64\n",
      " - decreasing (similarity: 0.62\n",
      " - decline (similarity: 0.61\n",
      " - increasein (similarity: 0.60\n",
      "top 10 words similar to 'enter'\n",
      " - entering (similarity: 0.74\n",
      " - entered (similarity: 0.70\n",
      " - reenter (similarity: 0.65\n",
      " - enters (similarity: 0.56\n",
      " - entry (similarity: 0.55\n",
      " - Entering (similarity: 0.48\n",
      " - participate (similarity: 0.48\n",
      " - leave (similarity: 0.48\n",
      " - join (similarity: 0.47\n",
      " - register (similarity: 0.46\n"
     ]
    }
   ],
   "source": [
    "print(\"w2v results:\")\n",
    "antonyms_embedding(model, antonyms)"
   ]
  },
  {
   "cell_type": "markdown",
   "id": "6ae5febf",
   "metadata": {},
   "source": [
    "#### why do embeddings have these tendency? \n",
    "1- Training Goal : We usually focus on training the model for predicting the similar words, rather than antonyms.\n",
    "\n",
    "2- Polysemy (Same word, multiple related meanings)\n",
    "Example: The term \"cold\" in a clinical setting. It could refer to a common viral infection (common cold).\n",
    "It might also describe the temperature sensation (the patient feels\n",
    "cold)\n",
    "\n",
    "3- Synonymy (Different words with similar meanings): Terms like \"myocardial infarction,\" \"heart attack,\" and \"cardiac\n",
    "arrest.\"\n",
    "\n",
    "4- Training Data :  text corpus used for training the embeddings can also impact the results.\n",
    "\n",
    "* Taken from slides "
   ]
  },
  {
   "cell_type": "code",
   "execution_count": null,
   "id": "ed30a187",
   "metadata": {},
   "outputs": [],
   "source": []
  },
  {
   "cell_type": "code",
   "execution_count": null,
   "id": "b7d6626f",
   "metadata": {},
   "outputs": [],
   "source": []
  },
  {
   "cell_type": "markdown",
   "id": "1f92952e",
   "metadata": {},
   "source": [
    "### 2.3 OPTIONAL SECTION - Analogy Tests "
   ]
  },
  {
   "cell_type": "markdown",
   "id": "578fbd28",
   "metadata": {},
   "source": [
    "## w2v "
   ]
  },
  {
   "cell_type": "code",
   "execution_count": 10,
   "id": "f4bc3369",
   "metadata": {
    "scrolled": true
   },
   "outputs": [],
   "source": [
    "def custom_analogy_test(modeltype, num_tests=5):\n",
    "    correct_pred = 0\n",
    "    \n",
    "    data = [\n",
    "        (\"bitter\", \"sweet\", \"heavy\", \"light\"),        \n",
    "        (\"happy\", \"sad\", \"rich\", \"poor\"),    \n",
    "        (\"king\", \"man\", \"queen\", \"woman\"),        \n",
    "        (\"petal\", \"flower\", \"drop\", \"ocean\"),    \n",
    "        (\"director\", \"film\", \"chef\", \"food\")\n",
    "        \n",
    "    ]\n",
    "\n",
    "    for i in range(num_tests):\n",
    "        a, b, c, correct_ans = data[i]\n",
    "\n",
    "        # Check if the words are in the model's vocabulary\n",
    "        if a in modeltype and b in modeltype and c in modeltype:\n",
    "            \n",
    "            res = modeltype.most_similar(positive=[b, c], negative=[a], topn=1)\n",
    "            pred = res[0][0]\n",
    "            print(f\"predicted word ({a}, {b}, {c}): {pred}\")\n",
    "\n",
    "            if pred == correct_ans:\n",
    "                correct_pred += 1\n",
    "\n",
    "    # Calculate and print accuracy\n",
    "    accuracy = correct_pred / num_tests * 100\n",
    "    print(\" \")\n",
    "    print(f\"accuracy: {accuracy:.2f}%\")\n"
   ]
  },
  {
   "cell_type": "code",
   "execution_count": null,
   "id": "b7757d46",
   "metadata": {},
   "outputs": [],
   "source": []
  },
  {
   "cell_type": "code",
   "execution_count": 11,
   "id": "c29b4fd3",
   "metadata": {},
   "outputs": [
    {
     "name": "stdout",
     "output_type": "stream",
     "text": [
      "predicted word (bitter, sweet, heavy): light\n",
      "predicted word (happy, sad, rich): impoverished\n",
      "predicted word (king, man, queen): woman\n",
      "predicted word (petal, flower, drop): fall\n",
      "predicted word (director, film, chef): chefs\n",
      " \n",
      "accuracy: 40.00%\n"
     ]
    }
   ],
   "source": [
    "#glove\n",
    "custom_analogy_test(modelglove)"
   ]
  },
  {
   "cell_type": "code",
   "execution_count": 12,
   "id": "8fa19535",
   "metadata": {},
   "outputs": [
    {
     "name": "stdout",
     "output_type": "stream",
     "text": [
      "predicted word (bitter, sweet, heavy): Heavy\n",
      "predicted word (happy, sad, rich): Melamine_nitrogen\n",
      "predicted word (king, man, queen): woman\n",
      "predicted word (petal, flower, drop): decline\n",
      "predicted word (director, film, chef): movie\n",
      " \n",
      "accuracy: 20.00%\n"
     ]
    }
   ],
   "source": [
    "#w2v\n",
    "custom_analogy_test(model)"
   ]
  },
  {
   "cell_type": "markdown",
   "id": "218b7649",
   "metadata": {},
   "source": [
    "## results  - glove performs better than the w2v model why? \n",
    "\n",
    "1) glove learns words in a large context and understands how words are related to each other ( co occurence ) . w2v sees only a limited context. \n",
    "\n",
    "2) glove captures relationships from the entire corpus.  w2v might struggle with rare words\n",
    "\n",
    "3) the only drawback of glove is that it is memory intensive whereas w2v is scalable and efficient. \n",
    "\n"
   ]
  },
  {
   "cell_type": "code",
   "execution_count": null,
   "id": "57e88a17",
   "metadata": {},
   "outputs": [],
   "source": []
  },
  {
   "cell_type": "markdown",
   "id": "17e4c57d",
   "metadata": {},
   "source": [
    "## Citations\n",
    "1) glove : Jeffrey Pennington, Richard Socher, and Christopher D. Manning. 2014. GloVe: Global Vectors for Word Representation. [pdf] [bib]\n",
    "\n",
    "2)  Word2vec [Mikolov et al., 2013]: https://code.google.com/archive/p/word2vec/\n",
    "\n",
    "3) GloVe [Pennington et al., 2014]: http://nlp.stanford.edu/projects/glove/\n",
    "\n",
    "4) Dataset :  was downloaded from: http://www.fit.vutbr.cz/ ̃imikolov/rnnlm/word-test.v1.txt\n"
   ]
  },
  {
   "cell_type": "code",
   "execution_count": null,
   "id": "b2517cac",
   "metadata": {},
   "outputs": [],
   "source": []
  },
  {
   "cell_type": "code",
   "execution_count": null,
   "id": "b74c889f",
   "metadata": {},
   "outputs": [],
   "source": []
  },
  {
   "cell_type": "code",
   "execution_count": null,
   "id": "e67fdccb",
   "metadata": {},
   "outputs": [],
   "source": []
  },
  {
   "cell_type": "code",
   "execution_count": 13,
   "id": "7d8f6291",
   "metadata": {
    "scrolled": true
   },
   "outputs": [
    {
     "ename": "ValueError",
     "evalue": "invalid literal for int() with base 10: 'the'",
     "output_type": "error",
     "traceback": [
      "\u001b[0;31m---------------------------------------------------------------------------\u001b[0m",
      "\u001b[0;31mValueError\u001b[0m                                Traceback (most recent call last)",
      "Cell \u001b[0;32mIn[13], line 10\u001b[0m\n\u001b[1;32m      8\u001b[0m \u001b[38;5;66;03m# Load GloVe model from text file\u001b[39;00m\n\u001b[1;32m      9\u001b[0m glove_file_path \u001b[38;5;241m=\u001b[39m \u001b[38;5;124m'\u001b[39m\u001b[38;5;124mglove.6B.300d.txt\u001b[39m\u001b[38;5;124m'\u001b[39m  \u001b[38;5;66;03m# Update this path based on your downloaded file\u001b[39;00m\n\u001b[0;32m---> 10\u001b[0m glove_model \u001b[38;5;241m=\u001b[39m \u001b[43mKeyedVectors\u001b[49m\u001b[38;5;241;43m.\u001b[39;49m\u001b[43mload_word2vec_format\u001b[49m\u001b[43m(\u001b[49m\u001b[43mglove_file_path\u001b[49m\u001b[43m,\u001b[49m\u001b[43m \u001b[49m\u001b[43mbinary\u001b[49m\u001b[38;5;241;43m=\u001b[39;49m\u001b[38;5;28;43;01mFalse\u001b[39;49;00m\u001b[43m)\u001b[49m\n\u001b[1;32m     11\u001b[0m \u001b[38;5;28;01mimport\u001b[39;00m \u001b[38;5;21;01mgensim\u001b[39;00m\n\u001b[1;32m     12\u001b[0m \u001b[38;5;28;01mfrom\u001b[39;00m \u001b[38;5;21;01mgensim\u001b[39;00m\u001b[38;5;21;01m.\u001b[39;00m\u001b[38;5;21;01mmodels\u001b[39;00m \u001b[38;5;28;01mimport\u001b[39;00m KeyedVectors\n",
      "File \u001b[0;32m~/anaconda3/envs/pytorchenv/lib/python3.9/site-packages/gensim/models/keyedvectors.py:1719\u001b[0m, in \u001b[0;36mKeyedVectors.load_word2vec_format\u001b[0;34m(cls, fname, fvocab, binary, encoding, unicode_errors, limit, datatype, no_header)\u001b[0m\n\u001b[1;32m   1672\u001b[0m \u001b[38;5;129m@classmethod\u001b[39m\n\u001b[1;32m   1673\u001b[0m \u001b[38;5;28;01mdef\u001b[39;00m \u001b[38;5;21mload_word2vec_format\u001b[39m(\n\u001b[1;32m   1674\u001b[0m         \u001b[38;5;28mcls\u001b[39m, fname, fvocab\u001b[38;5;241m=\u001b[39m\u001b[38;5;28;01mNone\u001b[39;00m, binary\u001b[38;5;241m=\u001b[39m\u001b[38;5;28;01mFalse\u001b[39;00m, encoding\u001b[38;5;241m=\u001b[39m\u001b[38;5;124m'\u001b[39m\u001b[38;5;124mutf8\u001b[39m\u001b[38;5;124m'\u001b[39m, unicode_errors\u001b[38;5;241m=\u001b[39m\u001b[38;5;124m'\u001b[39m\u001b[38;5;124mstrict\u001b[39m\u001b[38;5;124m'\u001b[39m,\n\u001b[1;32m   1675\u001b[0m         limit\u001b[38;5;241m=\u001b[39m\u001b[38;5;28;01mNone\u001b[39;00m, datatype\u001b[38;5;241m=\u001b[39mREAL, no_header\u001b[38;5;241m=\u001b[39m\u001b[38;5;28;01mFalse\u001b[39;00m,\n\u001b[1;32m   1676\u001b[0m     ):\n\u001b[1;32m   1677\u001b[0m \u001b[38;5;250m    \u001b[39m\u001b[38;5;124;03m\"\"\"Load KeyedVectors from a file produced by the original C word2vec-tool format.\u001b[39;00m\n\u001b[1;32m   1678\u001b[0m \n\u001b[1;32m   1679\u001b[0m \u001b[38;5;124;03m    Warnings\u001b[39;00m\n\u001b[0;32m   (...)\u001b[0m\n\u001b[1;32m   1717\u001b[0m \n\u001b[1;32m   1718\u001b[0m \u001b[38;5;124;03m    \"\"\"\u001b[39;00m\n\u001b[0;32m-> 1719\u001b[0m     \u001b[38;5;28;01mreturn\u001b[39;00m \u001b[43m_load_word2vec_format\u001b[49m\u001b[43m(\u001b[49m\n\u001b[1;32m   1720\u001b[0m \u001b[43m        \u001b[49m\u001b[38;5;28;43mcls\u001b[39;49m\u001b[43m,\u001b[49m\u001b[43m \u001b[49m\u001b[43mfname\u001b[49m\u001b[43m,\u001b[49m\u001b[43m \u001b[49m\u001b[43mfvocab\u001b[49m\u001b[38;5;241;43m=\u001b[39;49m\u001b[43mfvocab\u001b[49m\u001b[43m,\u001b[49m\u001b[43m \u001b[49m\u001b[43mbinary\u001b[49m\u001b[38;5;241;43m=\u001b[39;49m\u001b[43mbinary\u001b[49m\u001b[43m,\u001b[49m\u001b[43m \u001b[49m\u001b[43mencoding\u001b[49m\u001b[38;5;241;43m=\u001b[39;49m\u001b[43mencoding\u001b[49m\u001b[43m,\u001b[49m\u001b[43m \u001b[49m\u001b[43municode_errors\u001b[49m\u001b[38;5;241;43m=\u001b[39;49m\u001b[43municode_errors\u001b[49m\u001b[43m,\u001b[49m\n\u001b[1;32m   1721\u001b[0m \u001b[43m        \u001b[49m\u001b[43mlimit\u001b[49m\u001b[38;5;241;43m=\u001b[39;49m\u001b[43mlimit\u001b[49m\u001b[43m,\u001b[49m\u001b[43m \u001b[49m\u001b[43mdatatype\u001b[49m\u001b[38;5;241;43m=\u001b[39;49m\u001b[43mdatatype\u001b[49m\u001b[43m,\u001b[49m\u001b[43m \u001b[49m\u001b[43mno_header\u001b[49m\u001b[38;5;241;43m=\u001b[39;49m\u001b[43mno_header\u001b[49m\u001b[43m,\u001b[49m\n\u001b[1;32m   1722\u001b[0m \u001b[43m    \u001b[49m\u001b[43m)\u001b[49m\n",
      "File \u001b[0;32m~/anaconda3/envs/pytorchenv/lib/python3.9/site-packages/gensim/models/keyedvectors.py:2059\u001b[0m, in \u001b[0;36m_load_word2vec_format\u001b[0;34m(cls, fname, fvocab, binary, encoding, unicode_errors, limit, datatype, no_header, binary_chunk_size)\u001b[0m\n\u001b[1;32m   2057\u001b[0m \u001b[38;5;28;01melse\u001b[39;00m:\n\u001b[1;32m   2058\u001b[0m     header \u001b[38;5;241m=\u001b[39m utils\u001b[38;5;241m.\u001b[39mto_unicode(fin\u001b[38;5;241m.\u001b[39mreadline(), encoding\u001b[38;5;241m=\u001b[39mencoding)\n\u001b[0;32m-> 2059\u001b[0m     vocab_size, vector_size \u001b[38;5;241m=\u001b[39m [\u001b[38;5;28mint\u001b[39m(x) \u001b[38;5;28;01mfor\u001b[39;00m x \u001b[38;5;129;01min\u001b[39;00m header\u001b[38;5;241m.\u001b[39msplit()]  \u001b[38;5;66;03m# throws for invalid file format\u001b[39;00m\n\u001b[1;32m   2060\u001b[0m \u001b[38;5;28;01mif\u001b[39;00m limit:\n\u001b[1;32m   2061\u001b[0m     vocab_size \u001b[38;5;241m=\u001b[39m \u001b[38;5;28mmin\u001b[39m(vocab_size, limit)\n",
      "File \u001b[0;32m~/anaconda3/envs/pytorchenv/lib/python3.9/site-packages/gensim/models/keyedvectors.py:2059\u001b[0m, in \u001b[0;36m<listcomp>\u001b[0;34m(.0)\u001b[0m\n\u001b[1;32m   2057\u001b[0m \u001b[38;5;28;01melse\u001b[39;00m:\n\u001b[1;32m   2058\u001b[0m     header \u001b[38;5;241m=\u001b[39m utils\u001b[38;5;241m.\u001b[39mto_unicode(fin\u001b[38;5;241m.\u001b[39mreadline(), encoding\u001b[38;5;241m=\u001b[39mencoding)\n\u001b[0;32m-> 2059\u001b[0m     vocab_size, vector_size \u001b[38;5;241m=\u001b[39m [\u001b[38;5;28;43mint\u001b[39;49m\u001b[43m(\u001b[49m\u001b[43mx\u001b[49m\u001b[43m)\u001b[49m \u001b[38;5;28;01mfor\u001b[39;00m x \u001b[38;5;129;01min\u001b[39;00m header\u001b[38;5;241m.\u001b[39msplit()]  \u001b[38;5;66;03m# throws for invalid file format\u001b[39;00m\n\u001b[1;32m   2060\u001b[0m \u001b[38;5;28;01mif\u001b[39;00m limit:\n\u001b[1;32m   2061\u001b[0m     vocab_size \u001b[38;5;241m=\u001b[39m \u001b[38;5;28mmin\u001b[39m(vocab_size, limit)\n",
      "\u001b[0;31mValueError\u001b[0m: invalid literal for int() with base 10: 'the'"
     ]
    }
   ],
   "source": [
    "import gensim\n",
    "from gensim.models import KeyedVectors\n",
    "\n",
    "# Load the Word2Vec model\n",
    "word2vec_path = 'GoogleNews-vectors-negative300.bin'\n",
    "word2vec_model = KeyedVectors.load_word2vec_format(word2vec_path, binary=True)\n",
    "\n",
    "# Load GloVe model from text file\n",
    "glove_file_path = 'glove.6B.300d.txt'  # Update this path based on your downloaded file\n",
    "glove_model = KeyedVectors.load_word2vec_format(glove_file_path, binary=False)\n",
    "import gensim\n",
    "from gensim.models import KeyedVectors\n",
    "\n",
    "# Load the Word2Vec model\n",
    "word2vec_path = 'GoogleNews-vectors-negative300.bin'\n",
    "word2vec_model = KeyedVectors.load_word2vec_format(word2vec_path, binary=True)\n",
    "\n",
    "# Load GloVe model from text file\n",
    "glove_file_path = 'glove.6B.300d.txt'  # Path to the GloVe embeddings\n",
    "glove_model = KeyedVectors.load_word2vec_format(glove_file_path, binary=False)\n",
    "\n",
    "# Selected categories\n",
    "selected_categories = [\n",
    "    'capital-world', \n",
    "    'currency', \n",
    "    'city-in-state', \n",
    "    'family', \n",
    "    'gram1-adjective-to-adverb', \n",
    "    'gram2-opposite',\n",
    "    'gram3-comparative', \n",
    "    'gram6-nationality-adjective'\n",
    "]\n",
    "\n",
    "def process_category(file, category, model):\n",
    "    total, num_correct = 0, 0\n",
    "    found = False  # category found? \n",
    "    \n",
    "    for line in file:\n",
    "        curRow = line.strip()\n",
    "\n",
    "        if curRow.startswith(':'):  # check for category\n",
    "            if curRow[2:] == category:  \n",
    "                found = True  # found the desired category\n",
    "                \n",
    "            elif found:  # break when past the desired category\n",
    "                break\n",
    "\n",
    "        elif found:  # process analogy rows\n",
    "            correct, valid = process_analogy_row(curRow, model)  # pass model here\n",
    "            if valid:\n",
    "                total += 1\n",
    "                num_correct += correct\n",
    "\n",
    "    return num_correct, total\n",
    "\n",
    "def process_analogy_row(row, model):\n",
    "    split = row.split()  # split into words\n",
    "    if len(split) != 4:  # must have exactly 4 words\n",
    "        return 0, False  \n",
    "\n",
    "    # lowercase-- else glove will not be able to give results\n",
    "    a, b, c, d = map(str.lower, split)\n",
    "\n",
    "    # all 4 words in model's vocabulary\n",
    "    if all(word in model for word in [a, b, c]):\n",
    "        predicted_word = model.most_similar(positive=[b, c], negative=[a], topn=1)[0][0]\n",
    "        return (predicted_word == d.lower()), True  \n",
    "    else:\n",
    "        return 0, False\n",
    "\n",
    "def print_accuracy(category, num_correct, total):\n",
    "    if total > 0:\n",
    "        accuracy = num_correct / total\n",
    "        print(f\"Accuracy for {category}: {accuracy:.2f}\")\n",
    "\n",
    "def evaluate_selected_categories(file, selected_categories, model):\n",
    "    for category in selected_categories:\n",
    "        num_correct, total = process_category(file, category, model)  # Pass model here\n",
    "        print_accuracy(category, num_correct, total)\n",
    "\n",
    "# Load analogy dataset from a URL or local file\n",
    "analogy_dataset_url = 'https://raw.githubusercontent.com/nicholas-leonard/word2vec/master/questions-words.txt'\n",
    "response = requests.get(analogy_dataset_url)\n",
    "analogy_lines = response.text.splitlines()\n",
    "\n",
    "# Run the evaluation for Word2Vec\n",
    "print(\"Evaluating Word2Vec Model:\")\n",
    "evaluate_selected_categories(analogy_lines, selected_categories, word2vec_model)\n",
    "\n",
    "# Run the evaluation for GloVe\n",
    "print(\"\\nEvaluating GloVe Model:\")\n",
    "evaluate_selected_categories(analogy_lines, selected_categories, glove_model)\n"
   ]
  },
  {
   "cell_type": "code",
   "execution_count": null,
   "id": "52ec7b21",
   "metadata": {},
   "outputs": [],
   "source": []
  }
 ],
 "metadata": {
  "kernelspec": {
   "display_name": "Python 3 (ipykernel)",
   "language": "python",
   "name": "python3"
  },
  "language_info": {
   "codemirror_mode": {
    "name": "ipython",
    "version": 3
   },
   "file_extension": ".py",
   "mimetype": "text/x-python",
   "name": "python",
   "nbconvert_exporter": "python",
   "pygments_lexer": "ipython3",
   "version": "3.9.17"
  }
 },
 "nbformat": 4,
 "nbformat_minor": 5
}
